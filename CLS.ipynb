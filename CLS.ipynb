{
 "cells": [
  {
   "cell_type": "code",
   "execution_count": 1,
   "id": "indoor-shannon",
   "metadata": {},
   "outputs": [],
   "source": [
    "from scipy.stats import binom\n",
    "import numpy as np"
   ]
  },
  {
   "cell_type": "markdown",
   "id": "useful-wiring",
   "metadata": {},
   "source": [
    "$$binom.pmf(k, n, p) = \\binom{n}{k}p^k(1-p)^{n-k} $$"
   ]
  },
  {
   "cell_type": "markdown",
   "id": "split-mountain",
   "metadata": {},
   "source": [
    "$$\\tilde{r}|r \\sim B(m, \\frac{r - 1}{n-1}) + 1$$\n",
    "\n",
    "$$ p = \\frac{r-1}{n-1}$$\n",
    "\n",
    "$$p(\\tilde{r}|r) = \\binom{m}{\\tilde{r} - 1}p^{\\tilde{r} - 1}(1-p)^{m + 1- \\tilde{r}}$$"
   ]
  },
  {
   "cell_type": "code",
   "execution_count": 2,
   "id": "impressive-typing",
   "metadata": {},
   "outputs": [],
   "source": [
    "# rt ~ [1, m + 1]\n",
    "# rt - 1 ~ [0, m]\n",
    "# r ~ [1, n]"
   ]
  },
  {
   "cell_type": "code",
   "execution_count": 3,
   "id": "rising-preference",
   "metadata": {},
   "outputs": [],
   "source": [
    "# Example:\n",
    "m = 100\n",
    "n = 10000\n",
    "pr = 1/n # uniform prior"
   ]
  },
  {
   "cell_type": "code",
   "execution_count": 4,
   "id": "significant-sperm",
   "metadata": {},
   "outputs": [
    {
     "data": {
      "text/plain": [
       "array([[  0,   1,   2, ...,  98,  99, 100],\n",
       "       [  0,   1,   2, ...,  98,  99, 100],\n",
       "       [  0,   1,   2, ...,  98,  99, 100],\n",
       "       ...,\n",
       "       [  0,   1,   2, ...,  98,  99, 100],\n",
       "       [  0,   1,   2, ...,  98,  99, 100],\n",
       "       [  0,   1,   2, ...,  98,  99, 100]])"
      ]
     },
     "execution_count": 4,
     "metadata": {},
     "output_type": "execute_result"
    }
   ],
   "source": [
    "# rt is actually rt - 1 here\n",
    "rt = np.tile(np.arange(m + 1), (n, 1))\n",
    "rt"
   ]
  },
  {
   "cell_type": "code",
   "execution_count": 5,
   "id": "innovative-dressing",
   "metadata": {},
   "outputs": [
    {
     "data": {
      "text/plain": [
       "array([[    1,     1,     1, ...,     1,     1,     1],\n",
       "       [    2,     2,     2, ...,     2,     2,     2],\n",
       "       [    3,     3,     3, ...,     3,     3,     3],\n",
       "       ...,\n",
       "       [ 9998,  9998,  9998, ...,  9998,  9998,  9998],\n",
       "       [ 9999,  9999,  9999, ...,  9999,  9999,  9999],\n",
       "       [10000, 10000, 10000, ..., 10000, 10000, 10000]])"
      ]
     },
     "execution_count": 5,
     "metadata": {},
     "output_type": "execute_result"
    }
   ],
   "source": [
    "r = np.tile(np.arange(1, n + 1).reshape(-1, 1), (1, m + 1))\n",
    "r"
   ]
  },
  {
   "cell_type": "code",
   "execution_count": 6,
   "id": "adopted-glossary",
   "metadata": {},
   "outputs": [],
   "source": [
    "p = (r - 1.)/( n - 1)"
   ]
  },
  {
   "cell_type": "code",
   "execution_count": 7,
   "id": "precious-vertex",
   "metadata": {},
   "outputs": [],
   "source": [
    "A = np.sqrt(pr) * binom.pmf(rt, m, p)"
   ]
  },
  {
   "cell_type": "code",
   "execution_count": 8,
   "id": "varying-mechanics",
   "metadata": {},
   "outputs": [],
   "source": [
    "AT = A.T"
   ]
  },
  {
   "cell_type": "code",
   "execution_count": 9,
   "id": "lesbian-covering",
   "metadata": {},
   "outputs": [],
   "source": [
    "M = np.linalg.inv(np.matmul(AT, A))\n",
    "M = np.matmul(M, AT)"
   ]
  },
  {
   "cell_type": "code",
   "execution_count": 10,
   "id": "guilty-charles",
   "metadata": {},
   "outputs": [],
   "source": [
    "# Considering M(r) = Recall@10\n",
    "Mr = np.zeros(n)\n",
    "Mr[:10] = 1"
   ]
  },
  {
   "cell_type": "code",
   "execution_count": 11,
   "id": "precious-maine",
   "metadata": {},
   "outputs": [],
   "source": [
    "br = np.sqrt(pr) * Mr"
   ]
  },
  {
   "cell_type": "code",
   "execution_count": 12,
   "id": "certified-document",
   "metadata": {},
   "outputs": [],
   "source": [
    "M = np.matmul(M, br.reshape(-1, 1))"
   ]
  },
  {
   "cell_type": "code",
   "execution_count": 13,
   "id": "danish-documentation",
   "metadata": {},
   "outputs": [
    {
     "data": {
      "text/plain": [
       "array([ 1.33191892e+00, -1.28385042e+01,  9.29809929e+01, -5.23497493e+02,\n",
       "        2.34582418e+03, -8.50038219e+03,  2.51694193e+04, -6.13260764e+04,\n",
       "        1.23776678e+05, -2.09540823e+05,  3.06704751e+05, -4.12460680e+05,\n",
       "        5.45218381e+05, -6.99705142e+05,  7.56684127e+05, -4.99861893e+05,\n",
       "       -1.29975836e+05,  7.68487465e+05, -8.33341456e+05,  1.85217264e+05,\n",
       "        6.11343253e+05, -9.82660722e+05,  1.07866516e+06, -1.34539078e+06,\n",
       "        1.61091118e+06, -1.32839375e+06,  6.12571252e+05, -1.95834482e+05,\n",
       "        3.95845140e+05, -8.92614091e+05,  1.30111346e+06, -1.24543907e+06,\n",
       "        4.50845771e+05,  4.67253934e+05, -2.13755857e+05, -1.35602489e+06,\n",
       "        2.62282437e+06, -2.14630811e+06,  3.55769649e+05,  1.11164622e+06,\n",
       "       -1.16861949e+06,  2.24372354e+05,  5.36416513e+05, -7.13134413e+05,\n",
       "        7.89407863e+05, -8.15367372e+05,  5.05399004e+05, -3.68777113e+05,\n",
       "        8.92231317e+05, -1.27669000e+06,  7.42779495e+05,  2.81370890e+04,\n",
       "       -6.05110058e+04, -5.95498665e+05,  1.29607628e+06, -1.46765423e+06,\n",
       "        9.47240726e+05, -2.34331189e+05, -8.61122783e+04,  4.91181733e+04,\n",
       "        7.81236982e+04, -2.01848010e+05,  1.71922357e+05,  2.18024105e+04,\n",
       "       -7.96845614e+04, -2.02595020e+02, -6.92204530e+04,  1.36279081e+05,\n",
       "        1.54409285e+04, -4.32081381e+03, -3.26385964e+05,  3.64143143e+05,\n",
       "        6.29254170e+04, -2.09652524e+05, -1.80680340e+05,  4.01134405e+05,\n",
       "       -1.41594200e+05, -3.84746203e+04, -1.24513242e+05,  1.53714521e+05,\n",
       "        2.17798040e+05, -5.80593106e+05,  5.49827749e+05, -2.90117930e+05,\n",
       "        1.47493914e+05, -1.72612658e+05,  1.89858793e+05, -1.04745940e+05,\n",
       "       -1.86692969e+04,  9.07211803e+04, -9.32456807e+04,  6.12920850e+04,\n",
       "       -2.96986469e+04,  1.11070018e+04, -3.25410218e+03,  7.45426229e+02,\n",
       "       -1.31415860e+02,  1.72574448e+01, -1.58911300e+00,  9.08580962e-02,\n",
       "       -2.30913710e-03])"
      ]
     },
     "execution_count": 13,
     "metadata": {},
     "output_type": "execute_result"
    }
   ],
   "source": [
    "M.reshape(-1)"
   ]
  },
  {
   "cell_type": "code",
   "execution_count": 14,
   "id": "protecting-challenge",
   "metadata": {},
   "outputs": [],
   "source": [
    "# Considering there are 1000 users with uniform sampled rank in [1, m+1]\n",
    "np.random.seed(0)\n",
    "idx = np.random.randint(0, m, 1000)"
   ]
  },
  {
   "cell_type": "code",
   "execution_count": 15,
   "id": "southeast-immune",
   "metadata": {},
   "outputs": [
    {
     "data": {
      "text/plain": [
       "19900.928553106954"
      ]
     },
     "execution_count": 15,
     "metadata": {},
     "output_type": "execute_result"
    }
   ],
   "source": [
    "M[idx].mean()"
   ]
  },
  {
   "cell_type": "code",
   "execution_count": null,
   "id": "civic-terminology",
   "metadata": {},
   "outputs": [],
   "source": []
  }
 ],
 "metadata": {
  "kernelspec": {
   "display_name": "Python 3",
   "language": "python",
   "name": "python3"
  },
  "language_info": {
   "codemirror_mode": {
    "name": "ipython",
    "version": 3
   },
   "file_extension": ".py",
   "mimetype": "text/x-python",
   "name": "python",
   "nbconvert_exporter": "python",
   "pygments_lexer": "ipython3",
   "version": "3.7.9"
  }
 },
 "nbformat": 4,
 "nbformat_minor": 5
}
