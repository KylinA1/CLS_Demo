{
 "cells": [
  {
   "cell_type": "code",
   "execution_count": 4,
   "id": "talented-gossip",
   "metadata": {},
   "outputs": [],
   "source": [
    "from scipy.stats import binom\n",
    "import numpy as np\n",
    "import cvxpy as cp"
   ]
  },
  {
   "cell_type": "code",
   "execution_count": 5,
   "id": "official-ladder",
   "metadata": {},
   "outputs": [],
   "source": [
    "import mosek"
   ]
  },
  {
   "cell_type": "markdown",
   "id": "filled-pavilion",
   "metadata": {},
   "source": [
    "$$binom.pmf(k, n, p) = \\binom{n}{k}p^k(1-p)^{n-k} $$"
   ]
  },
  {
   "cell_type": "markdown",
   "id": "designed-booking",
   "metadata": {},
   "source": [
    "$$\\tilde{r}|r \\sim B(m, \\frac{r - 1}{n-1}) + 1$$\n",
    "\n",
    "$$ p = \\frac{r-1}{n-1}$$\n",
    "\n",
    "$$p(\\tilde{r}|r) = \\binom{m}{\\tilde{r} - 1}p^{\\tilde{r} - 1}(1-p)^{m + 1- \\tilde{r}}$$"
   ]
  },
  {
   "cell_type": "code",
   "execution_count": 2,
   "id": "controversial-maintenance",
   "metadata": {},
   "outputs": [],
   "source": [
    "# rt ~ [1, m + 1]\n",
    "# rt - 1 ~ [0, m]\n",
    "# r ~ [1, n]"
   ]
  },
  {
   "cell_type": "code",
   "execution_count": 30,
   "id": "seeing-distinction",
   "metadata": {},
   "outputs": [],
   "source": [
    "# Example:\n",
    "m = 100\n",
    "n = 10000\n",
    "pr = 1/n # uniform prior"
   ]
  },
  {
   "cell_type": "code",
   "execution_count": 31,
   "id": "buried-journal",
   "metadata": {},
   "outputs": [
    {
     "data": {
      "text/plain": [
       "array([[  0,   1,   2, ...,  98,  99, 100],\n",
       "       [  0,   1,   2, ...,  98,  99, 100],\n",
       "       [  0,   1,   2, ...,  98,  99, 100],\n",
       "       ...,\n",
       "       [  0,   1,   2, ...,  98,  99, 100],\n",
       "       [  0,   1,   2, ...,  98,  99, 100],\n",
       "       [  0,   1,   2, ...,  98,  99, 100]])"
      ]
     },
     "execution_count": 31,
     "metadata": {},
     "output_type": "execute_result"
    }
   ],
   "source": [
    "# rt is actually rt - 1 here\n",
    "rt = np.tile(np.arange(m + 1), (n, 1))\n",
    "rt"
   ]
  },
  {
   "cell_type": "code",
   "execution_count": 32,
   "id": "static-combine",
   "metadata": {},
   "outputs": [
    {
     "data": {
      "text/plain": [
       "array([[    1,     1,     1, ...,     1,     1,     1],\n",
       "       [    2,     2,     2, ...,     2,     2,     2],\n",
       "       [    3,     3,     3, ...,     3,     3,     3],\n",
       "       ...,\n",
       "       [ 9998,  9998,  9998, ...,  9998,  9998,  9998],\n",
       "       [ 9999,  9999,  9999, ...,  9999,  9999,  9999],\n",
       "       [10000, 10000, 10000, ..., 10000, 10000, 10000]])"
      ]
     },
     "execution_count": 32,
     "metadata": {},
     "output_type": "execute_result"
    }
   ],
   "source": [
    "r = np.tile(np.arange(1, n + 1).reshape(-1, 1), (1, m + 1))\n",
    "r"
   ]
  },
  {
   "cell_type": "code",
   "execution_count": 33,
   "id": "tired-courage",
   "metadata": {},
   "outputs": [],
   "source": [
    "p = (r - 1.)/( n - 1)"
   ]
  },
  {
   "cell_type": "code",
   "execution_count": 34,
   "id": "inclusive-source",
   "metadata": {},
   "outputs": [],
   "source": [
    "prr = binom.pmf(rt, m, p)"
   ]
  },
  {
   "cell_type": "code",
   "execution_count": 43,
   "id": "heavy-football",
   "metadata": {},
   "outputs": [],
   "source": [
    "# Considering M(r) = Recall@10\n",
    "Mr = np.zeros(n)\n",
    "Mr[:20] = 1"
   ]
  },
  {
   "cell_type": "code",
   "execution_count": 44,
   "id": "ordered-bikini",
   "metadata": {},
   "outputs": [
    {
     "data": {
      "text/plain": [
       "array([[ 1., -1.,  0., ...,  0.,  0.,  0.],\n",
       "       [ 0.,  1., -1., ...,  0.,  0.,  0.],\n",
       "       [ 0.,  0.,  1., ...,  0.,  0.,  0.],\n",
       "       ...,\n",
       "       [ 0.,  0.,  0., ..., -1.,  0.,  0.],\n",
       "       [ 0.,  0.,  0., ...,  1., -1.,  0.],\n",
       "       [ 0.,  0.,  0., ...,  0.,  1., -1.]])"
      ]
     },
     "execution_count": 44,
     "metadata": {},
     "output_type": "execute_result"
    }
   ],
   "source": [
    "F = np.zeros((m, m + 1))\n",
    "for i in range(m):\n",
    "    F[i][i] = 1\n",
    "    F[i][i+1]=-1\n",
    "F"
   ]
  },
  {
   "cell_type": "markdown",
   "id": "meaningful-graph",
   "metadata": {},
   "source": [
    "$$F = \\begin{bmatrix}\n",
    "1&-1&0&\\cdots&0\\\\\n",
    "0&1&-1&\\cdots&0\\\\\n",
    "\\vdots&&\\cdots&&\\vdots\\\\\n",
    "0&0&\\cdots&1&-1\\\\\n",
    "\\end{bmatrix}$$"
   ]
  },
  {
   "cell_type": "markdown",
   "id": "ranging-accident",
   "metadata": {},
   "source": [
    "# CVXY Solver"
   ]
  },
  {
   "cell_type": "code",
   "execution_count": 51,
   "id": "abandoned-velvet",
   "metadata": {},
   "outputs": [],
   "source": [
    "x = cp.Variable(m + 1)"
   ]
  },
  {
   "cell_type": "code",
   "execution_count": 52,
   "id": "affiliated-people",
   "metadata": {},
   "outputs": [
    {
     "data": {
      "text/plain": [
       "(10000, 101)"
      ]
     },
     "execution_count": 52,
     "metadata": {},
     "output_type": "execute_result"
    }
   ],
   "source": [
    "prr.shape"
   ]
  },
  {
   "cell_type": "code",
   "execution_count": 54,
   "id": "major-drive",
   "metadata": {},
   "outputs": [],
   "source": [
    "obj = cp.Minimize(cp.sum(cp.square(prr@x - Mr)/n))"
   ]
  },
  {
   "cell_type": "code",
   "execution_count": 55,
   "id": "metric-value",
   "metadata": {},
   "outputs": [],
   "source": [
    "constraints = [F@x >= 0]"
   ]
  },
  {
   "cell_type": "code",
   "execution_count": 56,
   "id": "bronze-shaft",
   "metadata": {},
   "outputs": [
    {
     "data": {
      "text/plain": [
       "0.001336957615084046"
      ]
     },
     "execution_count": 56,
     "metadata": {},
     "output_type": "execute_result"
    }
   ],
   "source": [
    "prob = cp.Problem(obj, constraints)\n",
    "prob.solve(solver=cp.MOSEK, verbose=False)"
   ]
  },
  {
   "cell_type": "code",
   "execution_count": 58,
   "id": "prompt-belarus",
   "metadata": {},
   "outputs": [],
   "source": [
    "M = np.array(x.value)"
   ]
  },
  {
   "cell_type": "code",
   "execution_count": 61,
   "id": "appointed-browser",
   "metadata": {},
   "outputs": [
    {
     "data": {
      "text/plain": [
       "array([ 0.36414112, -0.0016409 , -0.0016409 , -0.0016409 , -0.0016409 ,\n",
       "       -0.0016409 , -0.0016409 , -0.0016409 , -0.0016409 , -0.0016409 ,\n",
       "       -0.0016409 , -0.0016409 , -0.0016409 , -0.0016409 , -0.0016409 ,\n",
       "       -0.0016409 , -0.0016409 , -0.0016409 , -0.0016409 , -0.0016409 ,\n",
       "       -0.0016409 , -0.0016409 , -0.0016409 , -0.0016409 , -0.0016409 ,\n",
       "       -0.0016409 , -0.0016409 , -0.0016409 , -0.0016409 , -0.0016409 ,\n",
       "       -0.0016409 , -0.0016409 , -0.0016409 , -0.0016409 , -0.0016409 ,\n",
       "       -0.0016409 , -0.0016409 , -0.0016409 , -0.0016409 , -0.00164091,\n",
       "       -0.00164091, -0.00164091, -0.00164091, -0.00164091, -0.00164091,\n",
       "       -0.00164091, -0.00164091, -0.00164091, -0.00164091, -0.00164091,\n",
       "       -0.00164091, -0.00164091, -0.00164091, -0.00164091, -0.00164091,\n",
       "       -0.00164091, -0.00164091, -0.00164091, -0.00164091, -0.00164091,\n",
       "       -0.00164092, -0.00164092, -0.00164092, -0.00164092, -0.00164092,\n",
       "       -0.00164092, -0.00164092, -0.00164092, -0.00164092, -0.00164093,\n",
       "       -0.00164093, -0.00164093, -0.00164093, -0.00164093, -0.00164093,\n",
       "       -0.00164094, -0.00164094, -0.00164094, -0.00164094, -0.00164095,\n",
       "       -0.00164095, -0.00164095, -0.00164096, -0.00164096, -0.00164096,\n",
       "       -0.00164097, -0.00164097, -0.00164098, -0.00164098, -0.00164099,\n",
       "       -0.00164099, -0.001641  , -0.00164101, -0.00164102, -0.00164103,\n",
       "       -0.00164104, -0.00164106, -0.00164108, -0.00164111, -0.00164116,\n",
       "       -0.00164128])"
      ]
     },
     "execution_count": 61,
     "metadata": {},
     "output_type": "execute_result"
    }
   ],
   "source": [
    "M"
   ]
  },
  {
   "cell_type": "code",
   "execution_count": 59,
   "id": "dangerous-accommodation",
   "metadata": {},
   "outputs": [],
   "source": [
    "# Considering there are 1000 users with uniform sampled rank in [1, m+1]\n",
    "np.random.seed(0)\n",
    "idx = np.random.randint(0, m, 1000)"
   ]
  },
  {
   "cell_type": "code",
   "execution_count": 60,
   "id": "senior-daily",
   "metadata": {},
   "outputs": [
    {
     "data": {
      "text/plain": [
       "0.0049431464465987795"
      ]
     },
     "execution_count": 60,
     "metadata": {},
     "output_type": "execute_result"
    }
   ],
   "source": [
    "M[idx].mean()"
   ]
  },
  {
   "cell_type": "code",
   "execution_count": null,
   "id": "emerging-mirror",
   "metadata": {},
   "outputs": [],
   "source": []
  }
 ],
 "metadata": {
  "kernelspec": {
   "display_name": "Python 3",
   "language": "python",
   "name": "python3"
  },
  "language_info": {
   "codemirror_mode": {
    "name": "ipython",
    "version": 3
   },
   "file_extension": ".py",
   "mimetype": "text/x-python",
   "name": "python",
   "nbconvert_exporter": "python",
   "pygments_lexer": "ipython3",
   "version": "3.7.10"
  }
 },
 "nbformat": 4,
 "nbformat_minor": 5
}
